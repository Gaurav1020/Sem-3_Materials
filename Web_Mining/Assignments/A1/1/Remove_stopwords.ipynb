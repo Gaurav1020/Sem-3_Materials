{
 "cells": [
  {
   "cell_type": "code",
   "execution_count": 19,
   "metadata": {},
   "outputs": [
    {
     "name": "stdout",
     "output_type": "stream",
     "text": [
      "['This', 'is', 'sample', 'text', 'The', 'sentences', 'are', 'be', 'tokenized', 'Last', 'sentence', 'list']\n",
      "\n"
     ]
    }
   ],
   "source": [
    "fr = open(\"../SampleText.txt\")\n",
    "stop_words = ['.',',','a','they','the','his','so','and','were','from','that','of','in','only','with','to']\n",
    "text_arr = fr.read().split()\n",
    "text_without_sw=[]\n",
    "for i in range(0,len(text_arr)):\n",
    "    if text_arr[i] not in stop_words:\n",
    "        text_without_sw.append(text_arr[i])\n",
    "print (text_without_sw)\n",
    "fw = open(\"../TextWithoutStopwords.txt\",\"w\")\n",
    "for j in range(0,len(text_without_sw)):\n",
    "    fw.write(text_without_sw[j])\n",
    "    fw.write(\" \")\n",
    "fw.close()\n",
    "print(fr.read())\n",
    "fr.close()"
   ]
  },
  {
   "cell_type": "code",
   "execution_count": null,
   "metadata": {},
   "outputs": [],
   "source": []
  },
  {
   "cell_type": "code",
   "execution_count": null,
   "metadata": {},
   "outputs": [],
   "source": []
  },
  {
   "cell_type": "code",
   "execution_count": null,
   "metadata": {},
   "outputs": [],
   "source": []
  }
 ],
 "metadata": {
  "kernelspec": {
   "display_name": "Python 3",
   "language": "python",
   "name": "python3"
  },
  "language_info": {
   "codemirror_mode": {
    "name": "ipython",
    "version": 3
   },
   "file_extension": ".py",
   "mimetype": "text/x-python",
   "name": "python",
   "nbconvert_exporter": "python",
   "pygments_lexer": "ipython3",
   "version": "3.8.5"
  }
 },
 "nbformat": 4,
 "nbformat_minor": 4
}
