{
 "cells": [
  {
   "cell_type": "code",
   "execution_count": 26,
   "metadata": {},
   "outputs": [
    {
     "name": "stdout",
     "output_type": "stream",
     "text": [
      "['This', 'is', 'sample', 'text', 'The', 'sentences', 'are', 'be', 'tokenized', 'Last', 'sentence', 'list']\n"
     ]
    }
   ],
   "source": [
    "fr = open(\"../TextWithoutStopwords.txt\")\n",
    "TokenList = fr.read().split()\n",
    "print(TokenList)"
   ]
  },
  {
   "cell_type": "code",
   "execution_count": 27,
   "metadata": {
    "scrolled": true
   },
   "outputs": [
    {
     "name": "stdout",
     "output_type": "stream",
     "text": [
      "Tokenization of Sentence:  ['This is a sample text', 'The sentences are to be tokenized', 'Last sentence in the list .'] \n",
      "\n",
      "\n",
      "Tokenization of Words of Sentences [['This', 'is', 'a', 'sample', 'text'], ['The', 'sentences', 'are', 'to', 'be', 'tokenized'], ['Last', 'sentence', 'in', 'the', 'list', '.']]\n"
     ]
    }
   ],
   "source": [
    "fr = open(\"../SampleText.txt\")\n",
    "sentences =fr.read().split(' . ')\n",
    "token =[]\n",
    "print(\"Tokenization of Sentence: \",sentences,\"\\n\\n\")\n",
    "for i in range(0,(len(sentences))):\n",
    "    element = sentences[i].split()\n",
    "    token.append(element)\n",
    "print(\"Tokenization of Words of Sentences\",token)\n"
   ]
  },
  {
   "cell_type": "code",
   "execution_count": null,
   "metadata": {},
   "outputs": [],
   "source": []
  }
 ],
 "metadata": {
  "kernelspec": {
   "display_name": "Python 3",
   "language": "python",
   "name": "python3"
  },
  "language_info": {
   "codemirror_mode": {
    "name": "ipython",
    "version": 3
   },
   "file_extension": ".py",
   "mimetype": "text/x-python",
   "name": "python",
   "nbconvert_exporter": "python",
   "pygments_lexer": "ipython3",
   "version": "3.8.5"
  }
 },
 "nbformat": 4,
 "nbformat_minor": 4
}
